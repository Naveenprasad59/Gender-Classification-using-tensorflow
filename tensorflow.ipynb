{
 "cells": [
  {
   "cell_type": "code",
   "execution_count": 1,
   "metadata": {},
   "outputs": [],
   "source": [
    "import tensorflow as tf\n",
    "import tensorflow.keras"
   ]
  },
  {
   "cell_type": "code",
   "execution_count": 2,
   "metadata": {},
   "outputs": [],
   "source": [
    "class myCallback(tf.keras.callbacks.Callback):\n",
    "    def on_epoch_end(self,epoch,logs={}):\n",
    "        if(logs.get('accuracy')>0.9):\n",
    "            self.model.stop_training=True"
   ]
  },
  {
   "cell_type": "code",
   "execution_count": 3,
   "metadata": {},
   "outputs": [],
   "source": [
    "callbacks = myCallback()\n",
    "model = tf.keras.models.Sequential([\n",
    "              tf.keras.layers.Conv2D(16,(3,3),activation='relu',input_shape=(150,150,3)),\n",
    "              tf.keras.layers.MaxPooling2D(2,2),\n",
    "              tf.keras.layers.Conv2D(32,(3,3),activation='relu'),\n",
    "              tf.keras.layers.MaxPooling2D(2,2),\n",
    "              tf.keras.layers.Conv2D(64,(3,3),activation='relu'),\n",
    "              tf.keras.layers.MaxPool2D(2,2),\n",
    "              tf.keras.layers.Flatten(),\n",
    "              tf.keras.layers.Dense(256,activation='relu'),\n",
    "              tf.keras.layers.Dense(128,activation='relu'),\n",
    "              tf.keras.layers.Dense(64,activation='relu'),\n",
    "              tf.keras.layers.Dropout(0.4),\n",
    "              tf.keras.layers.Dense(1,activation='sigmoid'),\n",
    "])\n",
    "model.compile(loss='binary_crossentropy',optimizer='adam',metrics=['accuracy'])"
   ]
  },
  {
   "cell_type": "code",
   "execution_count": 4,
   "metadata": {},
   "outputs": [
    {
     "name": "stdout",
     "output_type": "stream",
     "text": [
      "Found 14000 images belonging to 2 classes.\n"
     ]
    }
   ],
   "source": [
    "from tensorflow.keras.preprocessing.image import ImageDataGenerator\n",
    "train_datagen = ImageDataGenerator(rescale=1./255)\n",
    "train_generator = train_datagen.flow_from_directory(\n",
    "                   './data/train',\n",
    "                   target_size=(150,150),\n",
    "                   batch_size=128,\n",
    "                   class_mode='binary'\n",
    "     )\n"
   ]
  },
  {
   "cell_type": "code",
   "execution_count": 5,
   "metadata": {},
   "outputs": [
    {
     "name": "stdout",
     "output_type": "stream",
     "text": [
      "WARNING:tensorflow:From <ipython-input-5-1a94fdc42c91>:1: Model.fit_generator (from tensorflow.python.keras.engine.training) is deprecated and will be removed in a future version.\n",
      "Instructions for updating:\n",
      "Please use Model.fit, which supports generators.\n",
      "Epoch 1/20\n",
      "54/54 [==============================] - 150s 3s/step - loss: 0.6739 - accuracy: 0.5900\n",
      "Epoch 2/20\n",
      "54/54 [==============================] - 149s 3s/step - loss: 0.5921 - accuracy: 0.6885\n",
      "Epoch 3/20\n",
      "54/54 [==============================] - 127s 2s/step - loss: 0.5497 - accuracy: 0.7181\n",
      "Epoch 4/20\n",
      "54/54 [==============================] - 128s 2s/step - loss: 0.5288 - accuracy: 0.7354\n",
      "Epoch 5/20\n",
      "54/54 [==============================] - 127s 2s/step - loss: 0.4887 - accuracy: 0.7586\n",
      "Epoch 6/20\n",
      "54/54 [==============================] - 128s 2s/step - loss: 0.4727 - accuracy: 0.7773\n",
      "Epoch 7/20\n",
      "54/54 [==============================] - 130s 2s/step - loss: 0.4394 - accuracy: 0.7888\n",
      "Epoch 8/20\n",
      "54/54 [==============================] - 134s 2s/step - loss: 0.4269 - accuracy: 0.8030\n",
      "Epoch 9/20\n",
      "54/54 [==============================] - 125s 2s/step - loss: 0.3656 - accuracy: 0.8302\n",
      "Epoch 10/20\n",
      "54/54 [==============================] - 104s 2s/step - loss: 0.3673 - accuracy: 0.8329\n",
      "Epoch 11/20\n",
      "54/54 [==============================] - 107s 2s/step - loss: 0.2993 - accuracy: 0.8703\n",
      "Epoch 12/20\n",
      "54/54 [==============================] - 115s 2s/step - loss: 0.3021 - accuracy: 0.8704\n",
      "Epoch 13/20\n",
      "54/54 [==============================] - 110s 2s/step - loss: 0.2510 - accuracy: 0.8953\n",
      "Epoch 14/20\n",
      "54/54 [==============================] - 112s 2s/step - loss: 0.2416 - accuracy: 0.8980\n",
      "Epoch 15/20\n",
      "54/54 [==============================] - 112s 2s/step - loss: 0.1904 - accuracy: 0.9245\n"
     ]
    }
   ],
   "source": [
    "history = model.fit_generator(train_generator,epochs=20,steps_per_epoch=54,verbose=1,callbacks=[callbacks])"
   ]
  },
  {
   "cell_type": "code",
   "execution_count": 6,
   "metadata": {},
   "outputs": [
    {
     "name": "stderr",
     "output_type": "stream",
     "text": [
      "Using TensorFlow backend.\n"
     ]
    }
   ],
   "source": [
    "import numpy as np\n",
    "from keras.preprocessing import image"
   ]
  },
  {
   "cell_type": "code",
   "execution_count": 23,
   "metadata": {},
   "outputs": [
    {
     "name": "stdout",
     "output_type": "stream",
     "text": [
      "[0.]\n",
      "./female_000027.jpg is a female\n"
     ]
    },
    {
     "data": {
      "text/plain": [
       "<matplotlib.image.AxesImage at 0x256054fed88>"
      ]
     },
     "execution_count": 23,
     "metadata": {},
     "output_type": "execute_result"
    },
    {
     "data": {
      "image/png": "[encoded data removed]",
      "text/plain": [
       "<Figure size 576x576 with 1 Axes>"
      ]
     },
     "metadata": {
      "needs_background": "light"
     },
     "output_type": "display_data"
    }
   ],
   "source": [
    "path ='./female_000027.jpg'\n",
    "img = image.load_img(path, target_size=(150, 150))\n",
    "x = image.img_to_array(img)\n",
    "x = np.expand_dims(x, axis=0)\n",
    "images = np.vstack([x])\n",
    "from PIL import Image\n",
    "import matplotlib.pyplot as plt\n",
    "#img = Image.open(path,target_size=(150,150))\n",
    "#img = np.array(img)\n",
    "classes = model.predict(images)#,batch_size=10)\n",
    "print(classes[0])\n",
    "if classes[0]<0.5:\n",
    "    print(path + \" is a female\")\n",
    "else:\n",
    "    print(path + \" is a male\")\n",
    "from PIL import Image\n",
    "import matplotlib.pyplot as plt\n",
    "imag = Image.open(path)\n",
    "imag = np.array(imag)\n",
    "plt.figure(figsize=(8,8))\n",
    "plt.imshow(imag)"
   ]
  },
  {
   "cell_type": "code",
   "execution_count": null,
   "metadata": {},
   "outputs": [],
   "source": []
  },
  {
   "cell_type": "code",
   "execution_count": null,
   "metadata": {},
   "outputs": [],
   "source": []
  },
  {
   "cell_type": "code",
   "execution_count": null,
   "metadata": {},
   "outputs": [],
   "source": []
  }
 ],
 "metadata": {
  "kernelspec": {
   "display_name": "Python 3",
   "language": "python",
   "name": "python3"
  },
  "language_info": {
   "codemirror_mode": {
    "name": "ipython",
    "version": 3
   },
   "file_extension": ".py",
   "mimetype": "text/x-python",
   "name": "python",
   "nbconvert_exporter": "python",
   "pygments_lexer": "ipython3",
   "version": "3.7.7"
  }
 },
 "nbformat": 4,
 "nbformat_minor": 4
}
